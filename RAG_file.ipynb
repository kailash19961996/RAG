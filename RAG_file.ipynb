{
 "cells": [
  {
   "cell_type": "code",
   "execution_count": 1,
   "metadata": {},
   "outputs": [
    {
     "name": "stdout",
     "output_type": "stream",
     "text": [
      "Requirement already satisfied: SentencePiece in /usr/local/lib/python3.10/dist-packages (0.2.0)\n",
      "\u001b[33mWARNING: Running pip as the 'root' user can result in broken permissions and conflicting behaviour with the system package manager. It is recommended to use a virtual environment instead: https://pip.pypa.io/warnings/venv\u001b[0m\u001b[33m\n",
      "\u001b[0mNote: you may need to restart the kernel to use updated packages.\n"
     ]
    }
   ],
   "source": [
    "pip install SentencePiece"
   ]
  },
  {
   "cell_type": "code",
   "execution_count": 2,
   "metadata": {},
   "outputs": [
    {
     "name": "stdout",
     "output_type": "stream",
     "text": [
      "GPU available\n"
     ]
    }
   ],
   "source": [
    "from datasets import load_dataset\n",
    "import random\n",
    "import torch\n",
    "import torch.nn as nn\n",
    "import torch.nn.functional as F\n",
    "import torch.optim as optim\n",
    "import pandas as pd\n",
    "import numpy as np\n",
    "from tqdm import tqdm\n",
    "\n",
    "if torch.cuda.is_available():\n",
    "    device = torch.device(\"cuda\")\n",
    "    print(\"GPU available\")\n",
    "else:\n",
    "    device = torch.device(\"cpu\")\n",
    "    print(\"GPU not available, using CPU\")"
   ]
  },
  {
   "cell_type": "code",
   "execution_count": 3,
   "metadata": {},
   "outputs": [
    {
     "data": {
      "text/plain": [
       "DatasetDict({\n",
       "    validation: Dataset({\n",
       "        features: ['answers', 'passages', 'query', 'query_id', 'query_type', 'wellFormedAnswers'],\n",
       "        num_rows: 10047\n",
       "    })\n",
       "    train: Dataset({\n",
       "        features: ['answers', 'passages', 'query', 'query_id', 'query_type', 'wellFormedAnswers'],\n",
       "        num_rows: 82326\n",
       "    })\n",
       "    test: Dataset({\n",
       "        features: ['answers', 'passages', 'query', 'query_id', 'query_type', 'wellFormedAnswers'],\n",
       "        num_rows: 9650\n",
       "    })\n",
       "})"
      ]
     },
     "execution_count": 3,
     "metadata": {},
     "output_type": "execute_result"
    }
   ],
   "source": [
    "dataset = load_dataset('ms_marco', 'v1.1')\n",
    "dataset"
   ]
  },
  {
   "cell_type": "code",
   "execution_count": 4,
   "metadata": {},
   "outputs": [
    {
     "data": {
      "text/html": [
       "<div>\n",
       "<style scoped>\n",
       "    .dataframe tbody tr th:only-of-type {\n",
       "        vertical-align: middle;\n",
       "    }\n",
       "\n",
       "    .dataframe tbody tr th {\n",
       "        vertical-align: top;\n",
       "    }\n",
       "\n",
       "    .dataframe thead th {\n",
       "        text-align: right;\n",
       "    }\n",
       "</style>\n",
       "<table border=\"1\" class=\"dataframe\">\n",
       "  <thead>\n",
       "    <tr style=\"text-align: right;\">\n",
       "      <th></th>\n",
       "      <th>answers</th>\n",
       "      <th>passages</th>\n",
       "      <th>query</th>\n",
       "    </tr>\n",
       "  </thead>\n",
       "  <tbody>\n",
       "    <tr>\n",
       "      <th>0</th>\n",
       "      <td>[Results-Based Accountability is a disciplined...</td>\n",
       "      <td>{'is_selected': [0, 0, 0, 0, 0, 1, 0, 0, 0, 0]...</td>\n",
       "      <td>what is rba</td>\n",
       "    </tr>\n",
       "    <tr>\n",
       "      <th>1</th>\n",
       "      <td>[Yes]</td>\n",
       "      <td>{'is_selected': [0, 1, 0, 0, 0, 0, 0], 'passag...</td>\n",
       "      <td>was ronald reagan a democrat</td>\n",
       "    </tr>\n",
       "    <tr>\n",
       "      <th>2</th>\n",
       "      <td>[20-25 minutes]</td>\n",
       "      <td>{'is_selected': [0, 0, 0, 0, 1, 0, 0, 0, 0, 0]...</td>\n",
       "      <td>how long do you need for sydney and surroundin...</td>\n",
       "    </tr>\n",
       "    <tr>\n",
       "      <th>3</th>\n",
       "      <td>[$11 to $22 per square foot]</td>\n",
       "      <td>{'is_selected': [0, 0, 0, 0, 0, 0, 0, 0, 1], '...</td>\n",
       "      <td>price to install tile in shower</td>\n",
       "    </tr>\n",
       "    <tr>\n",
       "      <th>4</th>\n",
       "      <td>[Due to symptoms in the body]</td>\n",
       "      <td>{'is_selected': [0, 0, 1, 0, 0, 0, 0, 0], 'pas...</td>\n",
       "      <td>why conversion observed in body</td>\n",
       "    </tr>\n",
       "  </tbody>\n",
       "</table>\n",
       "</div>"
      ],
      "text/plain": [
       "                                             answers  \\\n",
       "0  [Results-Based Accountability is a disciplined...   \n",
       "1                                              [Yes]   \n",
       "2                                    [20-25 minutes]   \n",
       "3                       [$11 to $22 per square foot]   \n",
       "4                      [Due to symptoms in the body]   \n",
       "\n",
       "                                            passages  \\\n",
       "0  {'is_selected': [0, 0, 0, 0, 0, 1, 0, 0, 0, 0]...   \n",
       "1  {'is_selected': [0, 1, 0, 0, 0, 0, 0], 'passag...   \n",
       "2  {'is_selected': [0, 0, 0, 0, 1, 0, 0, 0, 0, 0]...   \n",
       "3  {'is_selected': [0, 0, 0, 0, 0, 0, 0, 0, 1], '...   \n",
       "4  {'is_selected': [0, 0, 1, 0, 0, 0, 0, 0], 'pas...   \n",
       "\n",
       "                                               query  \n",
       "0                                        what is rba  \n",
       "1                       was ronald reagan a democrat  \n",
       "2  how long do you need for sydney and surroundin...  \n",
       "3                    price to install tile in shower  \n",
       "4                    why conversion observed in body  "
      ]
     },
     "execution_count": 4,
     "metadata": {},
     "output_type": "execute_result"
    }
   ],
   "source": [
    "train_data = dataset['train']\n",
    "validation_data = dataset['validation']\n",
    "test_data = dataset['test']\n",
    "\n",
    "train_df = train_data.to_pandas()\n",
    "train_df.drop(['query_id', 'query_type', 'wellFormedAnswers'], axis=1, inplace=True)\n",
    "train_df = train_df[:100] #Using small amount of data\n",
    "train_df.head()"
   ]
  },
  {
   "cell_type": "code",
   "execution_count": 5,
   "metadata": {},
   "outputs": [
    {
     "data": {
      "text/html": [
       "<div>\n",
       "<style scoped>\n",
       "    .dataframe tbody tr th:only-of-type {\n",
       "        vertical-align: middle;\n",
       "    }\n",
       "\n",
       "    .dataframe tbody tr th {\n",
       "        vertical-align: top;\n",
       "    }\n",
       "\n",
       "    .dataframe thead th {\n",
       "        text-align: right;\n",
       "    }\n",
       "</style>\n",
       "<table border=\"1\" class=\"dataframe\">\n",
       "  <thead>\n",
       "    <tr style=\"text-align: right;\">\n",
       "      <th></th>\n",
       "      <th>query</th>\n",
       "      <th>answers</th>\n",
       "      <th>passages</th>\n",
       "    </tr>\n",
       "  </thead>\n",
       "  <tbody>\n",
       "    <tr>\n",
       "      <th>0</th>\n",
       "      <td>what is rba</td>\n",
       "      <td>Results-Based Accountability is a disciplined ...</td>\n",
       "      <td>[Since 2007, the RBA's outstanding reputation ...</td>\n",
       "    </tr>\n",
       "    <tr>\n",
       "      <th>1</th>\n",
       "      <td>was ronald reagan a democrat</td>\n",
       "      <td>Yes</td>\n",
       "      <td>[In his younger years, Ronald Reagan was a mem...</td>\n",
       "    </tr>\n",
       "    <tr>\n",
       "      <th>2</th>\n",
       "      <td>how long do you need for sydney and surroundin...</td>\n",
       "      <td>20-25 minutes</td>\n",
       "      <td>[Sydney, New South Wales, Australia is located...</td>\n",
       "    </tr>\n",
       "    <tr>\n",
       "      <th>3</th>\n",
       "      <td>price to install tile in shower</td>\n",
       "      <td>$11 to $22 per square foot</td>\n",
       "      <td>[In regards to tile installation costs, consum...</td>\n",
       "    </tr>\n",
       "    <tr>\n",
       "      <th>4</th>\n",
       "      <td>why conversion observed in body</td>\n",
       "      <td>Due to symptoms in the body</td>\n",
       "      <td>[Conclusions: In adult body CT, dose to an org...</td>\n",
       "    </tr>\n",
       "  </tbody>\n",
       "</table>\n",
       "</div>"
      ],
      "text/plain": [
       "                                               query  \\\n",
       "0                                        what is rba   \n",
       "1                       was ronald reagan a democrat   \n",
       "2  how long do you need for sydney and surroundin...   \n",
       "3                    price to install tile in shower   \n",
       "4                    why conversion observed in body   \n",
       "\n",
       "                                             answers  \\\n",
       "0  Results-Based Accountability is a disciplined ...   \n",
       "1                                                Yes   \n",
       "2                                      20-25 minutes   \n",
       "3                         $11 to $22 per square foot   \n",
       "4                        Due to symptoms in the body   \n",
       "\n",
       "                                            passages  \n",
       "0  [Since 2007, the RBA's outstanding reputation ...  \n",
       "1  [In his younger years, Ronald Reagan was a mem...  \n",
       "2  [Sydney, New South Wales, Australia is located...  \n",
       "3  [In regards to tile installation costs, consum...  \n",
       "4  [Conclusions: In adult body CT, dose to an org...  "
      ]
     },
     "execution_count": 5,
     "metadata": {},
     "output_type": "execute_result"
    }
   ],
   "source": [
    "passage = []\n",
    "answer = []\n",
    "\n",
    "for i in range(len(train_df)):\n",
    "    x = train_df['answers'][i].tolist()\n",
    "    if len(x)==0:\n",
    "        x = \"-\"\n",
    "    passage.append((train_df['passages'][i]['passage_text']).tolist())\n",
    "    answer.append(x[0])\n",
    "\n",
    "train_df['passages'] = passage\n",
    "train_df['answers'] = answer\n",
    "train_df = train_df[['query', 'answers', 'passages']]\n",
    "train_df.head()"
   ]
  },
  {
   "cell_type": "code",
   "execution_count": 6,
   "metadata": {},
   "outputs": [
    {
     "name": "stdout",
     "output_type": "stream",
     "text": [
      "814\n"
     ]
    },
    {
     "data": {
      "text/plain": [
       "[\"Metabolic acidosis, as a disruption of the body's acid/base balance, can be a mild symptom brought on by a lack of insulin, a starvation diet, or a gastrointestinal disorder like vomiting and diarrhea. Metabolic acidosis can indicate a more serious problem with a major organ like the liver, heart, or kidneys. In compensated acidosis pH may be normal, with a high blood bicarbonate concentration (due to increased renal retention) when the cause was respiratory, or with a low blood carbon dioxide (due to hyperventilation) when the cause was metabolic. See also glycolysis, lactic acid.\",\n",
       " \"4. Get work at a private detective agency. This is typically the first step before you can go out on your own. Most of these agencies are small, without much room for advancement, and they do not have definite steps or ranks that you can follow to move up in your career. Gain work experience. Once you've become a police officer, you'll need to put in your best effort for at least three years before you're even eligible for a detective position. You'll need to let your superiors know that you want to be kept in mind for a promotion and that you're interested in being a detective.\",\n",
       " 'Although an irrevocable trust, by legal definition, cannot be amended, there are circumstances that do allow changes as well as legal methods that can change how the trust -- or a new one -- earns and distributes its income. Although many rules apply generally, state law governs the creation and amendment of trusts. The original trust may have language allowing the trustee to amend the terms of an irrevocable trust. If this is the case, then the amendments may not have to pass scrutiny by the courts. You must follow the laws of your state when setting up a new trust.',\n",
       " \"$8,000 - $15,000. Cost to patent an electronics invention. “If you've got a mechanical invention, [a patent will] cost between $5,000 to $10,000 including attorney's fees and filing fees. If you're talking about electronics, the cost goes up to more like $8,000 to $15,000. $100,000 or more for worldwide patent rights. “Getting even a simple patent approved -- a process known as ‘prosecuting’ the patent application -- can cost up to $10,000 domestically and $100,000 or more for worldwide rights…” Cost of getting a patent.\",\n",
       " \"Primitive traits are those inherited from distant ancestors. Derived traits are those that just appeared (by mutation) in the most recent ancestor -- the one that gave rise to a newly formed branch. Of course, what's primitive or derived is relative to what branch an organism is on. Now let's compare traits on the lamprey-dolphin-shark-wolf branch. \"]"
      ]
     },
     "execution_count": 6,
     "metadata": {},
     "output_type": "execute_result"
    }
   ],
   "source": [
    "unique_docs = []\n",
    "for i in range(len(train_df)):\n",
    "    x = train_df['passages'][i]\n",
    "    for j in range(len(x)):\n",
    "        unique_docs.append(x[j])\n",
    "print(len(unique_docs))\n",
    "unique_docs = list(set(unique_docs))\n",
    "unique_docs[:5]"
   ]
  },
  {
   "cell_type": "code",
   "execution_count": 47,
   "metadata": {},
   "outputs": [
    {
     "name": "stderr",
     "output_type": "stream",
     "text": [
      "Special tokens have been added in the vocabulary, make sure the associated word embeddings are fine-tuned or trained.\n"
     ]
    },
    {
     "name": "stdout",
     "output_type": "stream",
     "text": [
      "\n",
      "top_docs are :\n",
      "Involuntary muscles are muscles that are not controllable consciously.\n",
      "Muscles \n",
      "\n",
      "softmax_scores are \n",
      "tensor([0.5555, 0.4445])\n",
      "\n",
      "inputs are :\n",
      "('example of involuntary muscle tissue is Involuntary muscles are muscles that are not controllable consciously.', 'yes, you are right', 0.5554922223091125)\n",
      "('example of involuntary muscle tissue is Muscles ', 'yes, you are right', 0.44450777769088745)\n",
      "\n",
      "dataset is <__main__.QADataset object at 0x7f2dfb9603a0>\n",
      "example of involuntary muscle tissue is Involuntary muscles are muscles that are not controllable consciously.\n",
      "yes, you are right\n",
      "0.5554922223091125\n",
      "example of involuntary muscle tissue is Muscles \n",
      "yes, you are right\n",
      "0.44450777769088745\n",
      "\n",
      "dataloader is <torch.utils.data.dataloader.DataLoader object at 0x7f2dfb960310>\n",
      "('example of involuntary muscle tissue is Muscles ', 'example of involuntary muscle tissue is Involuntary muscles are muscles that are not controllable consciously.')\n",
      "('yes, you are right', 'yes, you are right')\n",
      "tensor([0.4445, 0.5555], dtype=torch.float64)\n",
      "\n",
      "input_ids are \n",
      "tensor([[  677,    13,    16,  4571, 14016,   651,  5467,  6316,    19,  6887,\n",
      "          2482,     7,     1,     0,     0,     0,     0,     0,     0,     0,\n",
      "             0,     0,     0,     0,     0,     0],\n",
      "        [  677,    13,    16,  4571, 14016,   651,  5467,  6316,    19,    86,\n",
      "          4571, 14016,   651,  7654,    33,  7654,    24,    33,    59,   610,\n",
      "            40,   179,     3, 26355,     5,     1]])\n",
      "attention_mask are \n",
      "tensor([[1, 1, 1, 1, 1, 1, 1, 1, 1, 1, 1, 1, 1, 0, 0, 0, 0, 0, 0, 0, 0, 0, 0, 0,\n",
      "         0, 0],\n",
      "        [1, 1, 1, 1, 1, 1, 1, 1, 1, 1, 1, 1, 1, 1, 1, 1, 1, 1, 1, 1, 1, 1, 1, 1,\n",
      "         1, 1]])\n",
      "\n",
      "output_ids are \n",
      "tensor([[4273,    6,   25,   33,  269,    1],\n",
      "        [4273,    6,   25,   33,  269,    1]])\n",
      "decoder_attention_mask are \n",
      "tensor([[1, 1, 1, 1, 1, 1],\n",
      "        [1, 1, 1, 1, 1, 1]])\n",
      "----------------------------------------------------------------------------------------------------\n"
     ]
    },
    {
     "ename": "ValueError",
     "evalue": "only one element tensors can be converted to Python scalars",
     "output_type": "error",
     "traceback": [
      "\u001b[0;31m---------------------------------------------------------------------------\u001b[0m",
      "\u001b[0;31mValueError\u001b[0m                                Traceback (most recent call last)",
      "Cell \u001b[0;32mIn[47], line 107\u001b[0m\n\u001b[1;32m    104\u001b[0m \u001b[38;5;28mprint\u001b[39m(\u001b[38;5;124m\"\u001b[39m\u001b[38;5;124m-\u001b[39m\u001b[38;5;124m\"\u001b[39m \u001b[38;5;241m*\u001b[39m \u001b[38;5;241m100\u001b[39m)\n\u001b[1;32m    106\u001b[0m output_ids \u001b[38;5;241m=\u001b[39m output_ids[:, \u001b[38;5;241m1\u001b[39m:]\u001b[38;5;241m.\u001b[39mcontiguous()\n\u001b[0;32m--> 107\u001b[0m labels \u001b[38;5;241m=\u001b[39m \u001b[43mtorch\u001b[49m\u001b[38;5;241;43m.\u001b[39;49m\u001b[43mtensor\u001b[49m\u001b[43m(\u001b[49m\u001b[43m[\u001b[49m\u001b[43mscore\u001b[49m\u001b[43m]\u001b[49m\u001b[43m \u001b[49m\u001b[38;5;241;43m*\u001b[39;49m\u001b[43m \u001b[49m\u001b[43moutput_ids\u001b[49m\u001b[38;5;241;43m.\u001b[39;49m\u001b[43msize\u001b[49m\u001b[43m(\u001b[49m\u001b[38;5;241;43m0\u001b[39;49m\u001b[43m)\u001b[49m\u001b[43m)\u001b[49m\u001b[38;5;241m.\u001b[39munsqueeze(\u001b[38;5;241m-\u001b[39m\u001b[38;5;241m1\u001b[39m)\u001b[38;5;241m.\u001b[39mrepeat(\u001b[38;5;241m1\u001b[39m, \u001b[38;5;241m1\u001b[39m, output_ids\u001b[38;5;241m.\u001b[39msize(\u001b[38;5;241m-\u001b[39m\u001b[38;5;241m1\u001b[39m))\n\u001b[1;32m    108\u001b[0m \u001b[38;5;28mprint\u001b[39m(\u001b[38;5;124mf\u001b[39m\u001b[38;5;124m\"\u001b[39m\u001b[38;5;130;01m\\n\u001b[39;00m\u001b[38;5;124moutput_ids \u001b[39m\u001b[38;5;124m\"\u001b[39m)\n\u001b[1;32m    110\u001b[0m outputs \u001b[38;5;241m=\u001b[39m model(input_ids, attention_mask, labels\u001b[38;5;241m=\u001b[39moutput_ids)\n",
      "\u001b[0;31mValueError\u001b[0m: only one element tensors can be converted to Python scalars"
     ]
    }
   ],
   "source": [
    "import torch\n",
    "import torch.nn as nn\n",
    "import torch.nn.functional as F\n",
    "from transformers import T5Tokenizer, T5ForConditionalGeneration\n",
    "from sentence_transformers import SentenceTransformer\n",
    "\n",
    "# Load pre-trained models and tokenizers\n",
    "t5_tokenizer = T5Tokenizer.from_pretrained('t5-base')\n",
    "t5_model = T5ForConditionalGeneration.from_pretrained('t5-base')\n",
    "sentence_transformer = SentenceTransformer('all-MiniLM-L6-v2')\n",
    "\n",
    "# Load and encode documents\n",
    "all_docs = [\"Involuntary muscles are muscles that are not controllable consciously.\",\n",
    "            \"Muscles \",\n",
    "            \"Voluntary \",\n",
    "            \"paloma\"]\n",
    "    \n",
    "all_docs = all_docs\n",
    "doc_embeddings = sentence_transformer.encode(all_docs)\n",
    "\n",
    "# Create FAISS index and store document embeddings\n",
    "import faiss\n",
    "index = faiss.IndexFlatIP(doc_embeddings.shape[1])\n",
    "index.add(doc_embeddings)\n",
    "\n",
    "# Encode query and retrieve top-k relevant documents\n",
    "query = \"example of involuntary muscle tissue is\"\n",
    "answer = \"yes, you are right\"\n",
    "query_embedding = sentence_transformer.encode([query])[0]\n",
    "k = 2\n",
    "_, topk_doc_indices = index.search(query_embedding.reshape(1, -1), k)\n",
    "top_docs = [all_docs[idx] for idx in topk_doc_indices[0]]\n",
    "print(f\"\\ntop_docs are :\")\n",
    "for i in top_docs:\n",
    "    print(i)\n",
    "\n",
    "# Compute softmax scores for top-k documents\n",
    "topk_doc_scores, _ = index.search(query_embedding.reshape(1, -1), k)\n",
    "topk_doc_scores = F.softmax(torch.tensor(topk_doc_scores[0]), dim=0)\n",
    "print(f\"\\nsoftmax_scores are \\n{topk_doc_scores}\")\n",
    "\n",
    "# Prepare input for encoder-decoder model\n",
    "inputs = []\n",
    "for i, doc_idx in enumerate(topk_doc_indices[0]):\n",
    "    inputs.append((f\"{query} {all_docs[doc_idx]}\", answer, topk_doc_scores[i].item()))\n",
    "print(f\"\\ninputs are :\")\n",
    "for i in inputs:\n",
    "    print(i)\n",
    "\n",
    "# Define custom dataset and dataloader\n",
    "class QADataset(torch.utils.data.Dataset):\n",
    "    def __init__(self, inputs):\n",
    "        self.inputs = inputs\n",
    "\n",
    "    def __len__(self):\n",
    "        return len(self.inputs)\n",
    "\n",
    "    def __getitem__(self, idx):\n",
    "        return self.inputs[idx]\n",
    "\n",
    "dataset = QADataset(inputs)\n",
    "print(f\"\\ndataset is {dataset}\")\n",
    "for i, j, k in dataset:\n",
    "    print(i)\n",
    "    print(j)\n",
    "    print(k)\n",
    "dataloader = torch.utils.data.DataLoader(dataset, batch_size=2, shuffle=True)\n",
    "print(f\"\\ndataloader is {dataloader}\")\n",
    "for i, j, k in dataloader:\n",
    "    print(i)\n",
    "    print(j)\n",
    "    print(k)\n",
    "\n",
    "# Define model\n",
    "class QAModel(nn.Module):\n",
    "    def __init__(self):\n",
    "        super().__init__()\n",
    "        self.t5 = t5_model\n",
    "\n",
    "    def forward(self, input_ids, attention_mask, labels=None):\n",
    "        outputs = self.t5(input_ids=input_ids, attention_mask=attention_mask, labels=labels)\n",
    "        return outputs\n",
    "\n",
    "model = QAModel()\n",
    "epochs = 1\n",
    "# Training loop\n",
    "optimizer = torch.optim.AdamW(model.parameters(), lr=1e-5)\n",
    "\n",
    "for epoch in range(epochs):\n",
    "    for inputs, answer, score in dataloader:\n",
    "        inputs_dict = t5_tokenizer(inputs, return_tensors='pt', padding=True, truncation=True, max_length=512)\n",
    "        input_ids = inputs_dict['input_ids']\n",
    "        attention_mask = inputs_dict['attention_mask']\n",
    "\n",
    "        print(f\"\\ninput_ids are \\n{input_ids}\")\n",
    "        print(f\"attention_mask are \\n{attention_mask}\")\n",
    "\n",
    "        outputs_dict = t5_tokenizer(answer, return_tensors='pt', padding=True, truncation=True, max_length=512)\n",
    "        output_ids = outputs_dict['input_ids']\n",
    "        decoder_attention_mask = outputs_dict['attention_mask']\n",
    "        print(f\"\\noutput_ids are \\n{output_ids}\")\n",
    "        print(f\"decoder_attention_mask are \\n{decoder_attention_mask}\")\n",
    "        \n",
    "        print(\"-\" * 100)\n",
    "\n",
    "        output_ids = output_ids[:, 1:].contiguous()\n",
    "        labels = torch.tensor([score] * output_ids.size(0)).unsqueeze(-1).repeat(1, 1, output_ids.size(-1))\n",
    "        print(f\"\\noutput_ids \")\n",
    "\n",
    "        outputs = model(input_ids, attention_mask, labels=output_ids)\n",
    "        loss = outputs.loss\n",
    "        loss.backward()\n",
    "        optimizer.step()\n",
    "        optimizer.zero_grad()"
   ]
  },
  {
   "cell_type": "code",
   "execution_count": 41,
   "metadata": {},
   "outputs": [
    {
     "name": "stdout",
     "output_type": "stream",
     "text": [
      "['▁example', '▁of', '▁in', 'vol', 'unta', 'ry', '▁muscle', '▁tissue', '▁is', '▁Mus', 'cle', 's'] [677, 13, 16, 4571, 14016, 651, 5467, 6316, 19, 6887, 2482, 7]\n",
      "['▁example', '▁of', '▁in', 'vol', 'unta', 'ry', '▁muscle', '▁tissue', '▁is', '▁In', 'vol', 'unta', 'ry', '▁muscles', '▁are', '▁muscles', '▁that', '▁are', '▁not', '▁control', 'l', 'able', '▁', 'consciously', '.'] [677, 13, 16, 4571, 14016, 651, 5467, 6316, 19, 86, 4571, 14016, 651, 7654, 33, 7654, 24, 33, 59, 610, 40, 179, 3, 26355, 5]\n"
     ]
    }
   ],
   "source": [
    "\n",
    "print(t5_tokenizer.tokenize('example of involuntary muscle tissue is Muscles '), t5_tokenizer.convert_tokens_to_ids(['▁example', '▁of', '▁in', 'vol', 'unta', 'ry', '▁muscle', '▁tissue', '▁is', '▁Mus', 'cle', 's']))\n",
    "\n",
    "print(t5_tokenizer.tokenize('example of involuntary muscle tissue is Involuntary muscles are muscles that are not controllable consciously.'), t5_tokenizer.convert_tokens_to_ids(['▁example', '▁of', '▁in', 'vol', 'unta', 'ry', '▁muscle', '▁tissue', '▁is', '▁In', 'vol', 'unta', 'ry', '▁muscles', '▁are', '▁muscles', '▁that', '▁are', '▁not', '▁control', 'l', 'able', '▁', 'consciously', '.']))\n"
   ]
  },
  {
   "cell_type": "code",
   "execution_count": 43,
   "metadata": {},
   "outputs": [
    {
     "data": {
      "text/plain": [
       "('</s>', '<pad>', 0)"
      ]
     },
     "execution_count": 43,
     "metadata": {},
     "output_type": "execute_result"
    }
   ],
   "source": [
    "t5_tokenizer.decode(1), t5_tokenizer.decode(0),  t5_tokenizer.pad_token_id"
   ]
  },
  {
   "cell_type": "code",
   "execution_count": 27,
   "metadata": {},
   "outputs": [
    {
     "name": "stdout",
     "output_type": "stream",
     "text": [
      "\n",
      "input_ids are \n",
      "tensor([[  677,    13,    16,  4571, 14016,   651,  5467,  6316,    19,    86,\n",
      "          4571, 14016,   651,  7654,    33,  7654,    24,    33,    59,   610,\n",
      "            40,   179,     3, 26355,     5,     1,     0],\n",
      "        [  677,    13,    16,  4571, 14016,   651,  5467,  6316,    19,  6887,\n",
      "          2482,     7,    33, 12910,   321,  5014,   120,    38,   893, 18545,\n",
      "            42,    16,  4571, 14016,   651,     5,     1]])\n",
      "attention_mask are \n",
      "tensor([[1, 1, 1, 1, 1, 1, 1, 1, 1, 1, 1, 1, 1, 1, 1, 1, 1, 1, 1, 1, 1, 1, 1, 1,\n",
      "         1, 1, 0],\n",
      "        [1, 1, 1, 1, 1, 1, 1, 1, 1, 1, 1, 1, 1, 1, 1, 1, 1, 1, 1, 1, 1, 1, 1, 1,\n",
      "         1, 1, 1]])\n"
     ]
    }
   ],
   "source": [
    "inputs_dict = t5_tokenizer(inputs, return_tensors='pt', padding=True, truncation=True, max_length=512)\n",
    "input_ids = inputs_dict['input_ids']\n",
    "attention_mask = inputs_dict['attention_mask']\n",
    "\n",
    "print(f\"\\ninput_ids are \\n{input_ids}\")\n",
    "print(f\"attention_mask are \\n{attention_mask}\")"
   ]
  },
  {
   "cell_type": "code",
   "execution_count": null,
   "metadata": {},
   "outputs": [],
   "source": []
  }
 ],
 "metadata": {
  "kernelspec": {
   "display_name": "Python 3",
   "language": "python",
   "name": "python3"
  },
  "language_info": {
   "codemirror_mode": {
    "name": "ipython",
    "version": 3
   },
   "file_extension": ".py",
   "mimetype": "text/x-python",
   "name": "python",
   "nbconvert_exporter": "python",
   "pygments_lexer": "ipython3",
   "version": "3.10.12"
  }
 },
 "nbformat": 4,
 "nbformat_minor": 2
}
