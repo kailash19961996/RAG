{
 "cells": [
  {
   "cell_type": "code",
   "execution_count": 3,
   "metadata": {},
   "outputs": [],
   "source": [
    "from transformers import GPT2Model, GPT2Tokenizer"
   ]
  },
  {
   "cell_type": "code",
   "execution_count": 4,
   "metadata": {},
   "outputs": [
    {
     "data": {
      "application/vnd.jupyter.widget-view+json": {
       "model_id": "539014b3af3744e2b5438a31051eeca2",
       "version_major": 2,
       "version_minor": 0
      },
      "text/plain": [
       "tokenizer_config.json:   0%|          | 0.00/26.0 [00:00<?, ?B/s]"
      ]
     },
     "metadata": {},
     "output_type": "display_data"
    },
    {
     "data": {
      "application/vnd.jupyter.widget-view+json": {
       "model_id": "d830aec941594164894964984d31aeb0",
       "version_major": 2,
       "version_minor": 0
      },
      "text/plain": [
       "vocab.json:   0%|          | 0.00/1.04M [00:00<?, ?B/s]"
      ]
     },
     "metadata": {},
     "output_type": "display_data"
    },
    {
     "data": {
      "application/vnd.jupyter.widget-view+json": {
       "model_id": "a45a0a989d30459189904e33dc031244",
       "version_major": 2,
       "version_minor": 0
      },
      "text/plain": [
       "merges.txt:   0%|          | 0.00/456k [00:00<?, ?B/s]"
      ]
     },
     "metadata": {},
     "output_type": "display_data"
    },
    {
     "data": {
      "application/vnd.jupyter.widget-view+json": {
       "model_id": "04dc5d56f4b74d2cbdee3d843e0e5243",
       "version_major": 2,
       "version_minor": 0
      },
      "text/plain": [
       "tokenizer.json:   0%|          | 0.00/1.36M [00:00<?, ?B/s]"
      ]
     },
     "metadata": {},
     "output_type": "display_data"
    },
    {
     "data": {
      "application/vnd.jupyter.widget-view+json": {
       "model_id": "122e0d58326f4e3d8bf406f8f70e5e69",
       "version_major": 2,
       "version_minor": 0
      },
      "text/plain": [
       "config.json:   0%|          | 0.00/665 [00:00<?, ?B/s]"
      ]
     },
     "metadata": {},
     "output_type": "display_data"
    },
    {
     "data": {
      "application/vnd.jupyter.widget-view+json": {
       "model_id": "8792f045fca84152933bdbcd5d87682d",
       "version_major": 2,
       "version_minor": 0
      },
      "text/plain": [
       "model.safetensors:   0%|          | 0.00/548M [00:00<?, ?B/s]"
      ]
     },
     "metadata": {},
     "output_type": "display_data"
    }
   ],
   "source": [
    "tokenizer = GPT2Tokenizer.from_pretrained('gpt2')\n",
    "model = GPT2Model.from_pretrained('gpt2')"
   ]
  },
  {
   "cell_type": "code",
   "execution_count": null,
   "metadata": {},
   "outputs": [],
   "source": [
    "# Modeling\n",
    "# Initialize sentence transformer\n",
    "sentence_transformer = SentenceTransformer('path/to/pretrained/model')\n",
    "\n",
    "# Initialize Faiss index\n",
    "dim = sentence_transformer.get_sentence_embedding_dimension()\n",
    "index = faiss.IndexFlatIP(dim)\n",
    "\n",
    "# Initialize GPT-2 model\n",
    "tokenizer = GPT2Tokenizer.from_pretrained('gpt2')\n",
    "encoder = GPT2LMHeadModel.from_pretrained('gpt2').get_encoder()\n",
    "decoder = GPT2LMHeadModel.from_pretrained('gpt2').get_decoder()"
   ]
  },
  {
   "cell_type": "code",
   "execution_count": null,
   "metadata": {},
   "outputs": [],
   "source": [
    "# Define model\n",
    "class QAModel(nn.Module):\n",
    "    def __init__(self, encoder, decoder):\n",
    "        super(QAModel, self).__init__()\n",
    "        self.encoder = encoder\n",
    "        self.decoder = decoder\n",
    "\n",
    "    def forward(self, query, docs, answer):\n",
    "        # Encode query and docs\n",
    "        query_emb = sentence_transformer.encode(query)\n",
    "        doc_embs = [sentence_transformer.encode(doc) for doc in docs]\n",
    "\n",
    "        # Retrieve top 10 documents\n",
    "        top_k = 10\n",
    "        scores, indices = index.search(np.vstack(doc_embs), top_k)\n",
    "        top_docs = [doc_embs[idx] for idx in indices[0]]\n",
    "\n",
    "        # Concatenate query and top docs\n",
    "        input_emb = torch.cat([query_emb] + top_docs, dim=0)\n",
    "\n",
    "        # Encode input\n",
    "        encoded = self.encoder(input_emb)\n",
    "\n",
    "        # Decode answer\n",
    "        output = self.decoder(encoded, answer)\n",
    "\n",
    "        return output"
   ]
  },
  {
   "cell_type": "code",
   "execution_count": null,
   "metadata": {},
   "outputs": [],
   "source": [
    "model = QAModel(encoder, decoder)\n",
    "criterion = nn.CrossEntropyLoss()\n",
    "optimizer = optim.Adam(model.parameters())\n",
    "\n",
    "# Training loop\n",
    "for epoch in range(num_epochs):\n",
    "    for query, answer, docs in dataloader:\n",
    "        optimizer.zero_grad()\n",
    "        output = model(query, docs, answer)\n",
    "        loss = criterion(output, answer)\n",
    "        loss.backward()\n",
    "        optimizer.step()"
   ]
  },
  {
   "cell_type": "code",
   "execution_count": null,
   "metadata": {},
   "outputs": [],
   "source": [
    "# Inference\n",
    "def inference(model, query):\n",
    "    # Encode query\n",
    "    query_emb = sentence_transformer.encode(query)\n",
    "\n",
    "    # Retrieve top 10 documents\n",
    "    scores, indices = index.search(np.vstack(doc_embs), 10)\n",
    "    top_docs = [doc_embs[idx] for idx in indices[0]]\n",
    "\n",
    "    # Concatenate query and top docs\n",
    "    input_emb = torch.cat([query_emb] + top_docs, dim=0)\n",
    "\n",
    "    # Encode input\n",
    "    encoded = model.encoder(input_emb)\n",
    "\n",
    "    # Generate answer\n",
    "    output = model.decoder.generate(encoded, max_length=100)\n",
    "\n",
    "    # Decode answer\n",
    "    answer = tokenizer.decode(output[0], skip_special_tokens=True)\n",
    "\n",
    "    return answer"
   ]
  }
 ],
 "metadata": {
  "kernelspec": {
   "display_name": "Python 3",
   "language": "python",
   "name": "python3"
  },
  "language_info": {
   "codemirror_mode": {
    "name": "ipython",
    "version": 3
   },
   "file_extension": ".py",
   "mimetype": "text/x-python",
   "name": "python",
   "nbconvert_exporter": "python",
   "pygments_lexer": "ipython3",
   "version": "3.10.12"
  }
 },
 "nbformat": 4,
 "nbformat_minor": 2
}
